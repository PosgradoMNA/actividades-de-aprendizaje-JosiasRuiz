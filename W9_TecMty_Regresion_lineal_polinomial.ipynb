{
 "cells": [
  {
   "cell_type": "markdown",
   "metadata": {
    "id": "WUO-kdryVQwK"
   },
   "source": [
    "# **Maestría en Inteligencia Artificial Aplicada**\n",
    "## **Curso: Ciencia y analítica de datos**\n",
    "### Tecnológico de Monterrey\n",
    "# **Actividad Regresiones**\n",
    "#### Josías Ruiz - A00968460\n",
    "##### Dr. María de La Paz Rico"
   ]
  },
  {
   "cell_type": "markdown",
   "metadata": {
    "id": "WUO-kdryVQwK"
   },
   "source": [
    "# Linear Models\n"
   ]
  },
  {
   "cell_type": "markdown",
   "metadata": {
    "id": "u3ytB4LpVQwM"
   },
   "source": [
    "- In supervised learning, the training data fed to the algorithm includes the desired solutions, called labels. \n",
    "- In **regression**, the labels are continuous quantities.\n",
    "- Linear models predict by computing a weighted sum of input features plus a bias term."
   ]
  },
  {
   "cell_type": "code",
   "execution_count": 1,
   "metadata": {
    "id": "HMp_I4Y6VQwN"
   },
   "outputs": [],
   "source": [
    "import numpy as np\n",
    "%matplotlib inline\n",
    "import matplotlib\n",
    "import matplotlib.pyplot as plt\n",
    "import pandas as pd\n",
    "import seaborn as sns\n",
    "# to make this notebook's output stable across runs\n",
    "np.random.seed(42)"
   ]
  },
  {
   "cell_type": "markdown",
   "metadata": {
    "id": "szpzFXgiVQwN"
   },
   "source": [
    "## Simple Linear Regression\n",
    "\n",
    "Simple linear regression equation:\n",
    "\n",
    "$y = ax + b$\n",
    "<br>\n",
    "$a$: slope\n",
    "<br>\n",
    "$b$: intercept\n",
    "\n",
    "Generate linear-looking data with the equation:\n",
    "\n",
    "$y = 3X + 4 + noise$"
   ]
  },
  {
   "cell_type": "code",
   "execution_count": 2,
   "metadata": {
    "colab": {
     "base_uri": "https://localhost:8080/"
    },
    "id": "mitJFYeiMQqD",
    "outputId": "bcdf26d2-6d99-463c-e124-8273101239da"
   },
   "outputs": [
    {
     "data": {
      "text/plain": [
       "array([[0.37454012],\n",
       "       [0.95071431],\n",
       "       [0.73199394],\n",
       "       [0.59865848],\n",
       "       [0.15601864],\n",
       "       [0.15599452],\n",
       "       [0.05808361],\n",
       "       [0.86617615],\n",
       "       [0.60111501],\n",
       "       [0.70807258],\n",
       "       [0.02058449],\n",
       "       [0.96990985],\n",
       "       [0.83244264],\n",
       "       [0.21233911],\n",
       "       [0.18182497],\n",
       "       [0.18340451],\n",
       "       [0.30424224],\n",
       "       [0.52475643],\n",
       "       [0.43194502],\n",
       "       [0.29122914],\n",
       "       [0.61185289],\n",
       "       [0.13949386],\n",
       "       [0.29214465],\n",
       "       [0.36636184],\n",
       "       [0.45606998],\n",
       "       [0.78517596],\n",
       "       [0.19967378],\n",
       "       [0.51423444],\n",
       "       [0.59241457],\n",
       "       [0.04645041],\n",
       "       [0.60754485],\n",
       "       [0.17052412],\n",
       "       [0.06505159],\n",
       "       [0.94888554],\n",
       "       [0.96563203],\n",
       "       [0.80839735],\n",
       "       [0.30461377],\n",
       "       [0.09767211],\n",
       "       [0.68423303],\n",
       "       [0.44015249],\n",
       "       [0.12203823],\n",
       "       [0.49517691],\n",
       "       [0.03438852],\n",
       "       [0.9093204 ],\n",
       "       [0.25877998],\n",
       "       [0.66252228],\n",
       "       [0.31171108],\n",
       "       [0.52006802],\n",
       "       [0.54671028],\n",
       "       [0.18485446],\n",
       "       [0.96958463],\n",
       "       [0.77513282],\n",
       "       [0.93949894],\n",
       "       [0.89482735],\n",
       "       [0.59789998],\n",
       "       [0.92187424],\n",
       "       [0.0884925 ],\n",
       "       [0.19598286],\n",
       "       [0.04522729],\n",
       "       [0.32533033],\n",
       "       [0.38867729],\n",
       "       [0.27134903],\n",
       "       [0.82873751],\n",
       "       [0.35675333],\n",
       "       [0.28093451],\n",
       "       [0.54269608],\n",
       "       [0.14092422],\n",
       "       [0.80219698],\n",
       "       [0.07455064],\n",
       "       [0.98688694],\n",
       "       [0.77224477],\n",
       "       [0.19871568],\n",
       "       [0.00552212],\n",
       "       [0.81546143],\n",
       "       [0.70685734],\n",
       "       [0.72900717],\n",
       "       [0.77127035],\n",
       "       [0.07404465],\n",
       "       [0.35846573],\n",
       "       [0.11586906],\n",
       "       [0.86310343],\n",
       "       [0.62329813],\n",
       "       [0.33089802],\n",
       "       [0.06355835],\n",
       "       [0.31098232],\n",
       "       [0.32518332],\n",
       "       [0.72960618],\n",
       "       [0.63755747],\n",
       "       [0.88721274],\n",
       "       [0.47221493],\n",
       "       [0.11959425],\n",
       "       [0.71324479],\n",
       "       [0.76078505],\n",
       "       [0.5612772 ],\n",
       "       [0.77096718],\n",
       "       [0.4937956 ],\n",
       "       [0.52273283],\n",
       "       [0.42754102],\n",
       "       [0.02541913],\n",
       "       [0.10789143]])"
      ]
     },
     "execution_count": 2,
     "metadata": {},
     "output_type": "execute_result"
    }
   ],
   "source": [
    "np.random.rand(100, 1)"
   ]
  },
  {
   "cell_type": "code",
   "execution_count": 3,
   "metadata": {
    "colab": {
     "base_uri": "https://localhost:8080/",
     "height": 265
    },
    "id": "QyubE1VEVQwN",
    "outputId": "c88964d8-4f37-4a29-8c8b-83704e30211b"
   },
   "outputs": [
    {
     "data": {
      "image/png": "[encoded data removed]",
      "text/plain": [
       "<Figure size 640x480 with 1 Axes>"
      ]
     },
     "metadata": {},
     "output_type": "display_data"
    }
   ],
   "source": [
    "X = 2*np.random.rand(100, 1)\n",
    "y = 4 + 3 * X + np.random.randn(100, 1)\n",
    "plt.scatter(X, y);"
   ]
  },
  {
   "cell_type": "code",
   "execution_count": 4,
   "metadata": {
    "colab": {
     "base_uri": "https://localhost:8080/",
     "height": 423
    },
    "id": "M5kaENJ4bZY5",
    "outputId": "80a86255-e6f9-4405-f3d4-6f401ccde033"
   },
   "outputs": [
    {
     "data": {
      "text/html": [
       "<div>\n",
       "<style scoped>\n",
       "    .dataframe tbody tr th:only-of-type {\n",
       "        vertical-align: middle;\n",
       "    }\n",
       "\n",
       "    .dataframe tbody tr th {\n",
       "        vertical-align: top;\n",
       "    }\n",
       "\n",
       "    .dataframe thead th {\n",
       "        text-align: right;\n",
       "    }\n",
       "</style>\n",
       "<table border=\"1\" class=\"dataframe\">\n",
       "  <thead>\n",
       "    <tr style=\"text-align: right;\">\n",
       "      <th></th>\n",
       "      <th>0</th>\n",
       "    </tr>\n",
       "  </thead>\n",
       "  <tbody>\n",
       "    <tr>\n",
       "      <th>0</th>\n",
       "      <td>3.508550</td>\n",
       "    </tr>\n",
       "    <tr>\n",
       "      <th>1</th>\n",
       "      <td>8.050716</td>\n",
       "    </tr>\n",
       "    <tr>\n",
       "      <th>2</th>\n",
       "      <td>6.179208</td>\n",
       "    </tr>\n",
       "    <tr>\n",
       "      <th>3</th>\n",
       "      <td>6.337073</td>\n",
       "    </tr>\n",
       "    <tr>\n",
       "      <th>4</th>\n",
       "      <td>11.311173</td>\n",
       "    </tr>\n",
       "    <tr>\n",
       "      <th>...</th>\n",
       "      <td>...</td>\n",
       "    </tr>\n",
       "    <tr>\n",
       "      <th>95</th>\n",
       "      <td>5.441928</td>\n",
       "    </tr>\n",
       "    <tr>\n",
       "      <th>96</th>\n",
       "      <td>10.121188</td>\n",
       "    </tr>\n",
       "    <tr>\n",
       "      <th>97</th>\n",
       "      <td>9.787643</td>\n",
       "    </tr>\n",
       "    <tr>\n",
       "      <th>98</th>\n",
       "      <td>8.061635</td>\n",
       "    </tr>\n",
       "    <tr>\n",
       "      <th>99</th>\n",
       "      <td>9.597115</td>\n",
       "    </tr>\n",
       "  </tbody>\n",
       "</table>\n",
       "<p>100 rows × 1 columns</p>\n",
       "</div>"
      ],
      "text/plain": [
       "            0\n",
       "0    3.508550\n",
       "1    8.050716\n",
       "2    6.179208\n",
       "3    6.337073\n",
       "4   11.311173\n",
       "..        ...\n",
       "95   5.441928\n",
       "96  10.121188\n",
       "97   9.787643\n",
       "98   8.061635\n",
       "99   9.597115\n",
       "\n",
       "[100 rows x 1 columns]"
      ]
     },
     "execution_count": 4,
     "metadata": {},
     "output_type": "execute_result"
    }
   ],
   "source": [
    "import pandas as pd\n",
    "pd.DataFrame(y)"
   ]
  },
  {
   "cell_type": "code",
   "execution_count": 5,
   "metadata": {
    "colab": {
     "base_uri": "https://localhost:8080/"
    },
    "id": "x6XGt_iAVQwO",
    "outputId": "9eb09db5-617b-4f74-c5f9-977e8af61be2"
   },
   "outputs": [
    {
     "data": {
      "text/plain": [
       "LinearRegression()"
      ]
     },
     "execution_count": 5,
     "metadata": {},
     "output_type": "execute_result"
    }
   ],
   "source": [
    "from sklearn.linear_model import LinearRegression\n",
    "\n",
    "linear_reg = LinearRegression(fit_intercept=True)\n",
    "linear_reg.fit(X, y)"
   ]
  },
  {
   "cell_type": "markdown",
   "metadata": {
    "id": "Hnm9YgjbVQwO"
   },
   "source": [
    "Plot the model's predictions:"
   ]
  },
  {
   "cell_type": "code",
   "execution_count": 6,
   "metadata": {
    "id": "9NtrLfGGVQwP"
   },
   "outputs": [],
   "source": [
    "#X_fit[]"
   ]
  },
  {
   "cell_type": "code",
   "execution_count": 7,
   "metadata": {
    "colab": {
     "base_uri": "https://localhost:8080/",
     "height": 287
    },
    "id": "1ZTT31igVQwP",
    "outputId": "86dd5a56-503e-4d31-a2c9-369e45a62666"
   },
   "outputs": [
    {
     "data": {
      "image/png": "[encoded data removed]",
      "text/plain": [
       "<Figure size 640x480 with 1 Axes>"
      ]
     },
     "metadata": {},
     "output_type": "display_data"
    }
   ],
   "source": [
    "# construct best fit line\n",
    "X_fit = np.linspace(0, 2, 100)\n",
    "y_fit = linear_reg.predict(X_fit[:, np.newaxis])\n",
    "\n",
    "plt.scatter(X, y)\n",
    "plt.plot(X_fit, y_fit, \"r-\", linewidth=2, label=\"Predictions\")\n",
    "plt.xlabel(\"$X$\", fontsize=18)\n",
    "plt.ylabel(\"$y$\", rotation=0, fontsize=18)\n",
    "plt.legend(loc=\"upper left\", fontsize=14);"
   ]
  },
  {
   "cell_type": "markdown",
   "metadata": {
    "id": "kIfOsEcWVQwP"
   },
   "source": [
    "Predictions are a good fit."
   ]
  },
  {
   "cell_type": "markdown",
   "metadata": {
    "id": "z2VYUeGrVQwQ"
   },
   "source": [
    "Generate new data to make predictions with the model:"
   ]
  },
  {
   "cell_type": "code",
   "execution_count": 8,
   "metadata": {
    "colab": {
     "base_uri": "https://localhost:8080/"
    },
    "id": "FuEd0Wp0VQwQ",
    "outputId": "367f69d6-5d6a-4dd8-a2b2-1c7de2340fdd"
   },
   "outputs": [
    {
     "data": {
      "text/plain": [
       "array([[0],\n",
       "       [2]])"
      ]
     },
     "execution_count": 8,
     "metadata": {},
     "output_type": "execute_result"
    }
   ],
   "source": [
    "X_new = np.array([[0], [2]])\n",
    "X_new"
   ]
  },
  {
   "cell_type": "code",
   "execution_count": 9,
   "metadata": {
    "colab": {
     "base_uri": "https://localhost:8080/"
    },
    "id": "lLCnLm7_VQwQ",
    "outputId": "40e094c6-54d4-4019-9748-81cca8f6820e"
   },
   "outputs": [
    {
     "data": {
      "text/plain": [
       "(2, 1)"
      ]
     },
     "execution_count": 9,
     "metadata": {},
     "output_type": "execute_result"
    }
   ],
   "source": [
    "X_new.shape"
   ]
  },
  {
   "cell_type": "code",
   "execution_count": 10,
   "metadata": {
    "colab": {
     "base_uri": "https://localhost:8080/"
    },
    "id": "zJIzUfZsVQwQ",
    "outputId": "e7cfadbc-9048-4843-c3cb-c728cdc90f50"
   },
   "outputs": [
    {
     "data": {
      "text/plain": [
       "array([[ 3.74406122],\n",
       "       [10.47517611]])"
      ]
     },
     "execution_count": 10,
     "metadata": {},
     "output_type": "execute_result"
    }
   ],
   "source": [
    "y_new = linear_reg.predict(X_new)\n",
    "y_new"
   ]
  },
  {
   "cell_type": "code",
   "execution_count": 11,
   "metadata": {
    "colab": {
     "base_uri": "https://localhost:8080/"
    },
    "id": "ICiEnkbdVQwQ",
    "outputId": "300cd885-b624-4eb8-8c55-70c953c23b70"
   },
   "outputs": [
    {
     "data": {
      "text/plain": [
       "(array([[3.36555744]]), array([3.74406122]))"
      ]
     },
     "execution_count": 11,
     "metadata": {},
     "output_type": "execute_result"
    }
   ],
   "source": [
    " linear_reg.coef_, linear_reg.intercept_"
   ]
  },
  {
   "cell_type": "markdown",
   "metadata": {
    "id": "iBXzOecgVQwR"
   },
   "source": [
    "The model estimates:\n",
    "\n",
    "$\\hat{y} = 3.36X + 3.74$"
   ]
  },
  {
   "cell_type": "code",
   "execution_count": 12,
   "metadata": {
    "id": "ZNvipq0wQYfj"
   },
   "outputs": [],
   "source": [
    "#|VENTAS|GANANCIAS|\n",
    "#COEF*VENTAS+B\n",
    "#|VENTAS|COMPRAS|GANANCIAS|\n",
    "#COEF1*X1+COEF2*X2+B=Y"
   ]
  },
  {
   "cell_type": "markdown",
   "metadata": {
    "id": "_Rv-RJSnVQwR"
   },
   "source": [
    "## Polynomial Regression\n",
    "\n",
    "If data is more complex than a straight line, you can use a linear model ti fit non-linear data adding powers of each feature as new features and then train a linear model on the extended set of features. "
   ]
  },
  {
   "cell_type": "markdown",
   "metadata": {
    "id": "dPrpAVsZVQwR"
   },
   "source": [
    "$$y = a_0 + a_1x_1 + a_2x_2 + a_3x_3 + ...$$ to $$y = a_0 + a_1x + a_2x^2 + a_3x^3+ ...$$ "
   ]
  },
  {
   "cell_type": "markdown",
   "metadata": {
    "id": "9kjMWzEfVQwR"
   },
   "source": [
    "This is still a linear model, the linearity refers to the fact that the coefficients never multiply or divide each other."
   ]
  },
  {
   "cell_type": "markdown",
   "metadata": {
    "id": "2M3fp_CSVQwR"
   },
   "source": [
    "To generate polynomial data we use the function:\n",
    "\n",
    "$y = 0.50X^2 + X + 2 + noise$"
   ]
  },
  {
   "cell_type": "code",
   "execution_count": 13,
   "metadata": {
    "id": "sSrueMnPVQwR"
   },
   "outputs": [],
   "source": [
    "# generate non-linear data e.g. quadratic equation\n",
    "m = 100\n",
    "X = 6 * np.random.rand(m, 1) - 3\n",
    "y = 0.5 * X**2 + X + 2 + np.random.randn(m, 1)"
   ]
  },
  {
   "cell_type": "code",
   "execution_count": 14,
   "metadata": {
    "colab": {
     "base_uri": "https://localhost:8080/",
     "height": 291
    },
    "id": "GNQQoXkMVQwS",
    "outputId": "5284814d-3b79-4a75-c7c3-a26c161846ca"
   },
   "outputs": [
    {
     "data": {
      "image/png": "[encoded data removed]",
      "text/plain": [
       "<Figure size 640x480 with 1 Axes>"
      ]
     },
     "metadata": {},
     "output_type": "display_data"
    }
   ],
   "source": [
    "plt.plot(X, y, \"b.\")\n",
    "plt.xlabel(\"$x_1$\", fontsize=18)\n",
    "plt.ylabel(\"$y$\", rotation=0, fontsize=18)\n",
    "plt.axis([-3, 3, 0, 10]);"
   ]
  },
  {
   "cell_type": "code",
   "execution_count": 15,
   "metadata": {
    "colab": {
     "base_uri": "https://localhost:8080/",
     "height": 423
    },
    "id": "YtaK_dsidNcP",
    "outputId": "ed940d74-045d-4578-a1c1-3cac6bbea074"
   },
   "outputs": [
    {
     "data": {
      "text/html": [
       "<div>\n",
       "<style scoped>\n",
       "    .dataframe tbody tr th:only-of-type {\n",
       "        vertical-align: middle;\n",
       "    }\n",
       "\n",
       "    .dataframe tbody tr th {\n",
       "        vertical-align: top;\n",
       "    }\n",
       "\n",
       "    .dataframe thead th {\n",
       "        text-align: right;\n",
       "    }\n",
       "</style>\n",
       "<table border=\"1\" class=\"dataframe\">\n",
       "  <thead>\n",
       "    <tr style=\"text-align: right;\">\n",
       "      <th></th>\n",
       "      <th>0</th>\n",
       "    </tr>\n",
       "  </thead>\n",
       "  <tbody>\n",
       "    <tr>\n",
       "      <th>0</th>\n",
       "      <td>8.529240</td>\n",
       "    </tr>\n",
       "    <tr>\n",
       "      <th>1</th>\n",
       "      <td>3.768929</td>\n",
       "    </tr>\n",
       "    <tr>\n",
       "      <th>2</th>\n",
       "      <td>3.354423</td>\n",
       "    </tr>\n",
       "    <tr>\n",
       "      <th>3</th>\n",
       "      <td>2.747935</td>\n",
       "    </tr>\n",
       "    <tr>\n",
       "      <th>4</th>\n",
       "      <td>0.808458</td>\n",
       "    </tr>\n",
       "    <tr>\n",
       "      <th>...</th>\n",
       "      <td>...</td>\n",
       "    </tr>\n",
       "    <tr>\n",
       "      <th>95</th>\n",
       "      <td>5.346771</td>\n",
       "    </tr>\n",
       "    <tr>\n",
       "      <th>96</th>\n",
       "      <td>6.338229</td>\n",
       "    </tr>\n",
       "    <tr>\n",
       "      <th>97</th>\n",
       "      <td>3.488785</td>\n",
       "    </tr>\n",
       "    <tr>\n",
       "      <th>98</th>\n",
       "      <td>1.372002</td>\n",
       "    </tr>\n",
       "    <tr>\n",
       "      <th>99</th>\n",
       "      <td>-0.072150</td>\n",
       "    </tr>\n",
       "  </tbody>\n",
       "</table>\n",
       "<p>100 rows × 1 columns</p>\n",
       "</div>"
      ],
      "text/plain": [
       "           0\n",
       "0   8.529240\n",
       "1   3.768929\n",
       "2   3.354423\n",
       "3   2.747935\n",
       "4   0.808458\n",
       "..       ...\n",
       "95  5.346771\n",
       "96  6.338229\n",
       "97  3.488785\n",
       "98  1.372002\n",
       "99 -0.072150\n",
       "\n",
       "[100 rows x 1 columns]"
      ]
     },
     "execution_count": 15,
     "metadata": {},
     "output_type": "execute_result"
    }
   ],
   "source": [
    "import pandas as pd\n",
    "pd.DataFrame(y)"
   ]
  },
  {
   "cell_type": "markdown",
   "metadata": {
    "id": "vrZTRaLNVQwS"
   },
   "source": [
    "Now we can use `PolynomialFeatues` to transform training data adding the square of each feature as new features."
   ]
  },
  {
   "cell_type": "code",
   "execution_count": 16,
   "metadata": {
    "id": "BXo0Hm56VQwS"
   },
   "outputs": [],
   "source": [
    "from sklearn.preprocessing import PolynomialFeatures\n",
    "\n",
    "poly_features = PolynomialFeatures(degree=2, include_bias=False)\n",
    "X_poly = poly_features.fit_transform(X)"
   ]
  },
  {
   "cell_type": "code",
   "execution_count": 17,
   "metadata": {
    "colab": {
     "base_uri": "https://localhost:8080/"
    },
    "id": "1FqY9-I4VQwS",
    "outputId": "d5d3ca46-6530-4848-96a2-2a9c61918fbc"
   },
   "outputs": [
    {
     "data": {
      "text/plain": [
       "array([[ 2.72919168e+00,  7.44848725e+00],\n",
       "       [ 1.42738150e+00,  2.03741795e+00],\n",
       "       [ 3.26124315e-01,  1.06357069e-01],\n",
       "       [ 6.70324477e-01,  4.49334905e-01],\n",
       "       [-4.82399625e-01,  2.32709399e-01],\n",
       "       [-1.51361406e+00,  2.29102753e+00],\n",
       "       [-8.64163928e-01,  7.46779295e-01],\n",
       "       [ 1.54707666e+00,  2.39344620e+00],\n",
       "       [-2.91363907e+00,  8.48929262e+00],\n",
       "       [-2.30356416e+00,  5.30640783e+00],\n",
       "       [-2.72398415e+00,  7.42008964e+00],\n",
       "       [-2.75562719e+00,  7.59348119e+00],\n",
       "       [ 2.13276350e+00,  4.54868016e+00],\n",
       "       [ 1.22194716e+00,  1.49315485e+00],\n",
       "       [-1.54957025e-01,  2.40116797e-02],\n",
       "       [-2.41299504e+00,  5.82254504e+00],\n",
       "       [-5.03047493e-02,  2.53056780e-03],\n",
       "       [-1.59169375e-01,  2.53348900e-02],\n",
       "       [-1.96078878e+00,  3.84469264e+00],\n",
       "       [-3.96890105e-01,  1.57521755e-01],\n",
       "       [-6.08971594e-01,  3.70846402e-01],\n",
       "       [ 6.95100588e-01,  4.83164828e-01],\n",
       "       [ 8.10561905e-01,  6.57010602e-01],\n",
       "       [-2.72817594e+00,  7.44294397e+00],\n",
       "       [-7.52324312e-01,  5.65991871e-01],\n",
       "       [ 7.55159494e-01,  5.70265862e-01],\n",
       "       [ 1.88175515e-02,  3.54100244e-04],\n",
       "       [ 2.13893905e+00,  4.57506025e+00],\n",
       "       [ 9.52161790e-01,  9.06612074e-01],\n",
       "       [-2.02239344e+00,  4.09007522e+00],\n",
       "       [-2.57658752e+00,  6.63880323e+00],\n",
       "       [ 8.54515669e-01,  7.30197029e-01],\n",
       "       [-2.84093214e+00,  8.07089541e+00],\n",
       "       [ 5.14653488e-01,  2.64868212e-01],\n",
       "       [ 2.64138145e+00,  6.97689596e+00],\n",
       "       [ 4.52845067e-01,  2.05068655e-01],\n",
       "       [-6.70980443e-01,  4.50214755e-01],\n",
       "       [ 8.59729311e-01,  7.39134488e-01],\n",
       "       [-2.50482657e-01,  6.27415615e-02],\n",
       "       [ 2.73700736e-01,  7.49120928e-02],\n",
       "       [ 2.64878885e+00,  7.01608239e+00],\n",
       "       [-6.83384173e-01,  4.67013928e-01],\n",
       "       [ 2.76714338e+00,  7.65708250e+00],\n",
       "       [ 2.43210385e+00,  5.91512915e+00],\n",
       "       [-1.82525319e+00,  3.33154921e+00],\n",
       "       [-2.58383219e+00,  6.67618881e+00],\n",
       "       [-2.39533199e+00,  5.73761535e+00],\n",
       "       [-2.89066905e+00,  8.35596753e+00],\n",
       "       [-2.43334224e+00,  5.92115443e+00],\n",
       "       [ 1.09804064e+00,  1.20569325e+00],\n",
       "       [-2.57286811e+00,  6.61965031e+00],\n",
       "       [-1.08614622e+00,  1.17971361e+00],\n",
       "       [ 2.06925187e+00,  4.28180328e+00],\n",
       "       [-2.86036839e+00,  8.18170730e+00],\n",
       "       [ 1.88681090e+00,  3.56005536e+00],\n",
       "       [-1.30887135e+00,  1.71314421e+00],\n",
       "       [-2.29101103e+00,  5.24873156e+00],\n",
       "       [ 1.18042299e+00,  1.39339844e+00],\n",
       "       [ 7.73657081e-01,  5.98545278e-01],\n",
       "       [ 2.26483208e+00,  5.12946436e+00],\n",
       "       [ 1.41042626e+00,  1.98930224e+00],\n",
       "       [ 1.82088558e+00,  3.31562430e+00],\n",
       "       [-1.30779256e+00,  1.71032139e+00],\n",
       "       [-1.93536274e+00,  3.74562893e+00],\n",
       "       [ 1.50368851e+00,  2.26107913e+00],\n",
       "       [ 1.84100844e+00,  3.38931206e+00],\n",
       "       [ 2.94303085e+00,  8.66143060e+00],\n",
       "       [-5.24293939e-01,  2.74884134e-01],\n",
       "       [-7.67891485e-01,  5.89657333e-01],\n",
       "       [ 1.65847776e+00,  2.75054850e+00],\n",
       "       [-9.55178758e-01,  9.12366461e-01],\n",
       "       [ 2.58454395e+00,  6.67986745e+00],\n",
       "       [ 2.15047651e+00,  4.62454922e+00],\n",
       "       [-4.26035836e-01,  1.81506533e-01],\n",
       "       [ 1.50522641e+00,  2.26570654e+00],\n",
       "       [ 1.52725724e+00,  2.33251469e+00],\n",
       "       [-2.38125679e+00,  5.67038389e+00],\n",
       "       [ 2.41531744e+00,  5.83375834e+00],\n",
       "       [ 3.15142347e-02,  9.93146988e-04],\n",
       "       [ 1.95874480e+00,  3.83668118e+00],\n",
       "       [-1.07970239e+00,  1.16575726e+00],\n",
       "       [ 2.37313937e+00,  5.63179047e+00],\n",
       "       [-6.64789928e-01,  4.41945648e-01],\n",
       "       [-2.93497409e+00,  8.61407292e+00],\n",
       "       [ 2.43229186e+00,  5.91604369e+00],\n",
       "       [-2.45227994e+00,  6.01367690e+00],\n",
       "       [-1.08411817e+00,  1.17531222e+00],\n",
       "       [ 2.70037180e+00,  7.29200787e+00],\n",
       "       [ 2.70364288e+00,  7.30968483e+00],\n",
       "       [ 4.40627329e-01,  1.94152443e-01],\n",
       "       [ 7.91023273e-01,  6.25717818e-01],\n",
       "       [-3.09326868e-01,  9.56831113e-02],\n",
       "       [-1.24073537e+00,  1.53942426e+00],\n",
       "       [-1.02801273e+00,  1.05681017e+00],\n",
       "       [ 1.03511074e+00,  1.07145424e+00],\n",
       "       [ 1.51424718e+00,  2.29294451e+00],\n",
       "       [ 1.74947426e+00,  3.06066019e+00],\n",
       "       [ 1.73770886e+00,  3.01963207e+00],\n",
       "       [-2.45276338e+00,  6.01604821e+00],\n",
       "       [-3.34781718e-02,  1.12078799e-03]])"
      ]
     },
     "execution_count": 17,
     "metadata": {},
     "output_type": "execute_result"
    }
   ],
   "source": [
    "X_poly"
   ]
  },
  {
   "cell_type": "markdown",
   "metadata": {
    "id": "GrFMRU_eVQwS"
   },
   "source": [
    "`X_poly` now contains the original feature of X plus the square of the feature:"
   ]
  },
  {
   "cell_type": "code",
   "execution_count": 18,
   "metadata": {
    "colab": {
     "base_uri": "https://localhost:8080/"
    },
    "id": "M8FH1dY2UwgN",
    "outputId": "b1ab252f-15be-4663-8014-d7420047017e"
   },
   "outputs": [
    {
     "name": "stdout",
     "output_type": "stream",
     "text": [
      "[2.72919168]\n",
      "[7.44848725]\n"
     ]
    }
   ],
   "source": [
    "print(X[0])\n",
    "print(X[0]*X[0])\n"
   ]
  },
  {
   "cell_type": "code",
   "execution_count": 19,
   "metadata": {
    "colab": {
     "base_uri": "https://localhost:8080/"
    },
    "id": "PSflPniWVQwT",
    "outputId": "5c8dc768-8e52-42f9-e790-5ba1ce7d5816"
   },
   "outputs": [
    {
     "data": {
      "text/plain": [
       "array([2.72919168, 7.44848725])"
      ]
     },
     "execution_count": 19,
     "metadata": {},
     "output_type": "execute_result"
    }
   ],
   "source": [
    "X_poly[0]"
   ]
  },
  {
   "cell_type": "markdown",
   "metadata": {
    "id": "HaXjXg7FVQwT"
   },
   "source": [
    "Fit the model to this extended training data:"
   ]
  },
  {
   "cell_type": "code",
   "execution_count": 20,
   "metadata": {
    "colab": {
     "base_uri": "https://localhost:8080/"
    },
    "id": "c0Qu93dgVQwT",
    "outputId": "2d33bd34-f425-4206-87b9-49daa184637c"
   },
   "outputs": [
    {
     "data": {
      "text/plain": [
       "(array([[1.04271531, 0.50866711]]), array([2.01873554]))"
      ]
     },
     "execution_count": 20,
     "metadata": {},
     "output_type": "execute_result"
    }
   ],
   "source": [
    "lin_reg = LinearRegression(fit_intercept=True)\n",
    "lin_reg.fit(X_poly, y)\n",
    "lin_reg.coef_, lin_reg.intercept_"
   ]
  },
  {
   "cell_type": "markdown",
   "metadata": {
    "id": "rKOSwvnmVQwT"
   },
   "source": [
    "The model estimates:\n",
    "\n",
    "$\\hat{y} =  0.89X +0.48X^2 + 2.09$"
   ]
  },
  {
   "cell_type": "markdown",
   "metadata": {
    "id": "_EtZEKz5VQwT"
   },
   "source": [
    "Plot the data and the predictions:"
   ]
  },
  {
   "cell_type": "code",
   "execution_count": 21,
   "metadata": {
    "colab": {
     "base_uri": "https://localhost:8080/",
     "height": 291
    },
    "id": "6Q8dHRgdVQwT",
    "outputId": "eeb2ed3a-bcc3-4f4d-b052-65f07a498a05"
   },
   "outputs": [
    {
     "data": {
      "image/png": "[encoded data removed]",
      "text/plain": [
       "<Figure size 640x480 with 1 Axes>"
      ]
     },
     "metadata": {},
     "output_type": "display_data"
    }
   ],
   "source": [
    "X_new=np.linspace(-3, 3, 100).reshape(100, 1)\n",
    "X_new_poly = poly_features.transform(X_new)\n",
    "y_new = lin_reg.predict(X_new_poly)\n",
    "plt.plot(X, y, \"b.\")\n",
    "plt.plot(X_new, y_new, \"r-\", linewidth=2, label=\"Predictions\")\n",
    "plt.xlabel(\"$x_1$\", fontsize=18)\n",
    "plt.ylabel(\"$y$\", rotation=0, fontsize=18)\n",
    "plt.legend(loc=\"upper left\", fontsize=14)\n",
    "plt.axis([-3, 3, 0, 10]);"
   ]
  },
  {
   "cell_type": "markdown",
   "metadata": {
    "id": "TIFwAtW1pc6h"
   },
   "source": [
    "## R square\n",
    "\n",
    "R² es una medida estadística de qué tan cerca están los datos de la línea de regresión ajustada. También se conoce como el coeficiente de determinación o el coeficiente de determinación múltiple para la regresión múltiple. Para decirlo en un lenguaje más simple, R² es una medida de ajuste para los modelos de regresión lineal.\n",
    "\n",
    "\n",
    "\n",
    "R² no indica si un modelo de regresión se ajusta adecuadamente a sus datos. Un buen modelo puede tener un valor R² bajo. Por otro lado, un modelo sesgado puede tener un valor alto de R².\n",
    "\n",
    " SSres + SSreg = SStot, R² = Explained variation / Total Variation\n",
    " \n",
    " ![image.png](https://i.stack.imgur.com/xb1VY.png)\n",
    " \n",
    "![image.png](https://3.bp.blogspot.com/-MFqQLwbGwd4/WMO7tz39beI/AAAAAAAAF9I/Bjpfohgv_5E4lu7HzHJBQtXsBM--byqPwCLcB/s1600/rsquared.png)\n"
   ]
  },
  {
   "cell_type": "code",
   "execution_count": 22,
   "metadata": {},
   "outputs": [],
   "source": [
    "import numpy as np\n",
    "%matplotlib inline\n",
    "import matplotlib\n",
    "import matplotlib.pyplot as plt\n",
    "import pandas as pd\n",
    "import seaborn as sns\n",
    "from sklearn import metrics\n",
    "from sklearn.metrics import r2_score\n",
    "from sklearn.linear_model import Ridge\n",
    "from sklearn.linear_model import LinearRegression, Lasso, Ridge, ElasticNet\n",
    "import pandas as pd\n",
    "from sklearn.preprocessing import PolynomialFeatures\n",
    "from sklearn.metrics import r2_score, mean_squared_error, mean_absolute_percentage_error,  make_scorer, mean_absolute_error\n",
    "from sklearn.preprocessing import MinMaxScaler\n",
    "from sklearn.preprocessing import power_transform\n",
    "from sklearn.model_selection import RepeatedKFold, RepeatedStratifiedKFold\n",
    "from sklearn.model_selection import cross_val_score\n",
    "from sklearn.preprocessing import StandardScaler\n",
    "from sklearn.pipeline import Pipeline\n",
    "from sklearn.model_selection import train_test_split, GridSearchCV, train_test_split, RepeatedKFold, cross_validate"
   ]
  },
  {
   "cell_type": "markdown",
   "metadata": {
    "id": "nTKFj4x9LMXm"
   },
   "source": [
    "# Ejercicio 1\n",
    "\n",
    "Utiliza la base de datos de \n",
    "https://www.kaggle.com/vinicius150987/manufacturing-cost\n",
    "\n",
    "Suponga que trabaja como consultor de una empresa de nueva creación que busca desarrollar un modelo para estimar el costo de los bienes vendidos a medida que varían el volumen de producción (número de unidades producidas). La startup recopiló datos y le pidió que desarrollara un modelo para predecir su costo frente a la cantidad de unidades vendidas."
   ]
  },
  {
   "cell_type": "code",
   "execution_count": 23,
   "metadata": {
    "colab": {
     "base_uri": "https://localhost:8080/",
     "height": 363
    },
    "id": "oTnErQOkL3oa",
    "outputId": "52622ce8-8aca-44fe-afe4-b50d0784225c"
   },
   "outputs": [
    {
     "data": {
      "text/html": [
       "<div>\n",
       "<style scoped>\n",
       "    .dataframe tbody tr th:only-of-type {\n",
       "        vertical-align: middle;\n",
       "    }\n",
       "\n",
       "    .dataframe tbody tr th {\n",
       "        vertical-align: top;\n",
       "    }\n",
       "\n",
       "    .dataframe thead th {\n",
       "        text-align: right;\n",
       "    }\n",
       "</style>\n",
       "<table border=\"1\" class=\"dataframe\">\n",
       "  <thead>\n",
       "    <tr style=\"text-align: right;\">\n",
       "      <th></th>\n",
       "      <th>Number of Units</th>\n",
       "      <th>Manufacturing Cost</th>\n",
       "    </tr>\n",
       "  </thead>\n",
       "  <tbody>\n",
       "    <tr>\n",
       "      <th>968</th>\n",
       "      <td>7.065653</td>\n",
       "      <td>27.804027</td>\n",
       "    </tr>\n",
       "    <tr>\n",
       "      <th>212</th>\n",
       "      <td>3.372115</td>\n",
       "      <td>41.127212</td>\n",
       "    </tr>\n",
       "    <tr>\n",
       "      <th>416</th>\n",
       "      <td>4.194513</td>\n",
       "      <td>43.832711</td>\n",
       "    </tr>\n",
       "    <tr>\n",
       "      <th>677</th>\n",
       "      <td>5.068888</td>\n",
       "      <td>41.225741</td>\n",
       "    </tr>\n",
       "    <tr>\n",
       "      <th>550</th>\n",
       "      <td>4.604122</td>\n",
       "      <td>37.569764</td>\n",
       "    </tr>\n",
       "    <tr>\n",
       "      <th>764</th>\n",
       "      <td>5.389522</td>\n",
       "      <td>31.191501</td>\n",
       "    </tr>\n",
       "    <tr>\n",
       "      <th>386</th>\n",
       "      <td>4.104190</td>\n",
       "      <td>42.988730</td>\n",
       "    </tr>\n",
       "    <tr>\n",
       "      <th>339</th>\n",
       "      <td>3.942214</td>\n",
       "      <td>46.291435</td>\n",
       "    </tr>\n",
       "    <tr>\n",
       "      <th>82</th>\n",
       "      <td>2.665856</td>\n",
       "      <td>48.578425</td>\n",
       "    </tr>\n",
       "    <tr>\n",
       "      <th>487</th>\n",
       "      <td>4.399514</td>\n",
       "      <td>37.567914</td>\n",
       "    </tr>\n",
       "  </tbody>\n",
       "</table>\n",
       "</div>"
      ],
      "text/plain": [
       "     Number of Units  Manufacturing Cost\n",
       "968         7.065653           27.804027\n",
       "212         3.372115           41.127212\n",
       "416         4.194513           43.832711\n",
       "677         5.068888           41.225741\n",
       "550         4.604122           37.569764\n",
       "764         5.389522           31.191501\n",
       "386         4.104190           42.988730\n",
       "339         3.942214           46.291435\n",
       "82          2.665856           48.578425\n",
       "487         4.399514           37.567914"
      ]
     },
     "execution_count": 23,
     "metadata": {},
     "output_type": "execute_result"
    }
   ],
   "source": [
    "import pandas as pd\n",
    "df = pd.read_csv('https://raw.githubusercontent.com/marypazrf/bdd/main/EconomiesOfScale.csv')\n",
    "df.sample(10)"
   ]
  },
  {
   "cell_type": "code",
   "execution_count": 24,
   "metadata": {
    "id": "14kGO5nkMGlV"
   },
   "outputs": [],
   "source": [
    "X = df[['Number of Units']]\n",
    "y = df['Manufacturing Cost']"
   ]
  },
  {
   "cell_type": "code",
   "execution_count": 25,
   "metadata": {
    "colab": {
     "base_uri": "https://localhost:8080/"
    },
    "id": "ksh_OrkjY3GW",
    "outputId": "2455aae4-2df4-45dd-f6ad-d768abc62342"
   },
   "outputs": [
    {
     "data": {
      "text/plain": [
       "1000"
      ]
     },
     "execution_count": 25,
     "metadata": {},
     "output_type": "execute_result"
    }
   ],
   "source": [
    "len(X)"
   ]
  },
  {
   "cell_type": "code",
   "execution_count": 26,
   "metadata": {
    "colab": {
     "base_uri": "https://localhost:8080/"
    },
    "id": "bwR6SSqQDfC2",
    "outputId": "2537f2f9-3321-4e78-b735-70d8293dce7c"
   },
   "outputs": [
    {
     "data": {
      "text/plain": [
       "<bound method NDFrame.describe of 0      95.066056\n",
       "1      96.531750\n",
       "2      73.661311\n",
       "3      95.566843\n",
       "4      98.777013\n",
       "         ...    \n",
       "995    23.855067\n",
       "996    27.536542\n",
       "997    25.973787\n",
       "998    25.138311\n",
       "999    21.547777\n",
       "Name: Manufacturing Cost, Length: 1000, dtype: float64>"
      ]
     },
     "execution_count": 26,
     "metadata": {},
     "output_type": "execute_result"
    }
   ],
   "source": [
    "y.describe"
   ]
  },
  {
   "cell_type": "code",
   "execution_count": 27,
   "metadata": {
    "colab": {
     "base_uri": "https://localhost:8080/",
     "height": 283
    },
    "id": "idoEjfEhMoxk",
    "outputId": "a42c8de5-1f3f-4bcf-8f03-66b858ca40e0"
   },
   "outputs": [
    {
     "data": {
      "text/plain": [
       "[<matplotlib.lines.Line2D at 0x15a2452d9d0>]"
      ]
     },
     "execution_count": 27,
     "metadata": {},
     "output_type": "execute_result"
    },
    {
     "data": {
      "image/png": "[encoded data removed]",
      "text/plain": [
       "<Figure size 640x480 with 1 Axes>"
      ]
     },
     "metadata": {},
     "output_type": "display_data"
    }
   ],
   "source": [
    "plt.plot(X,y,'b.')"
   ]
  },
  {
   "cell_type": "code",
   "execution_count": 28,
   "metadata": {},
   "outputs": [],
   "source": [
    "#-------------------------\n",
    "X_train, X_test, y_train, y_test = train_test_split(X, y, test_size = 0.1, random_state = 101)\n",
    "Model_Indicators =[]"
   ]
  },
  {
   "cell_type": "code",
   "execution_count": 29,
   "metadata": {
    "id": "kMmOy97puOLE"
   },
   "outputs": [
    {
     "data": {
      "image/png": "[encoded data removed]",
      "text/plain": [
       "<Figure size 640x480 with 1 Axes>"
      ]
     },
     "metadata": {},
     "output_type": "display_data"
    }
   ],
   "source": [
    "#lineal\n",
    "\n",
    "linear_reg = LinearRegression(fit_intercept=True)\n",
    "linear_reg.fit(X_train, y_train)\n",
    "\n",
    "X_Lineal = X_test\n",
    "y_Lineal = linear_reg.predict(X_Lineal)\n",
    "\n",
    "plt.scatter(X_train, y_train)\n",
    "plt.plot(X_Lineal, y_Lineal, \"r-\", linewidth=2, label=\"SLR\")\n",
    "plt.xlabel(\"$X$\", fontsize=10)\n",
    "plt.ylabel(\"$y$\", rotation=0, fontsize=12)\n",
    "plt.legend(loc=\"upper left\", fontsize=14);"
   ]
  },
  {
   "cell_type": "code",
   "execution_count": 30,
   "metadata": {},
   "outputs": [
    {
     "name": "stdout",
     "output_type": "stream",
     "text": [
      "SLR Eq: y = [-5.98882699] x + 66.83650741226988\n"
     ]
    }
   ],
   "source": [
    "# Ecuación del modelo\n",
    "print('SLR Eq: y =', linear_reg.coef_,'x +', linear_reg.intercept_)"
   ]
  },
  {
   "cell_type": "code",
   "execution_count": 31,
   "metadata": {},
   "outputs": [
    {
     "name": "stdout",
     "output_type": "stream",
     "text": [
      "Error Medio Absoluto (MAE): 5.013587781954963\n",
      "Error Medio Cuadrado (RMSE): 50.53735951137563\n",
      "r2: 0.6116251549562579\n"
     ]
    }
   ],
   "source": [
    "MAE_SLR = mean_absolute_error(y_test,y_Lineal)\n",
    "Model_Indicators.append([\"SLR\",\"MAE\",MAE_SLR])\n",
    "\n",
    "RMSE_SLR = mean_squared_error(y_test,y_Lineal)\n",
    "Model_Indicators.append([\"SLR\",\"RMSE\",RMSE_SLR])\n",
    "\n",
    "r2_SLR = r2_score(y_test,y_Lineal)\n",
    "Model_Indicators.append([\"SLR\",\"r2\",r2_SLR])\n",
    "\n",
    "print('Error Medio Absoluto (MAE):', MAE_SLR)\n",
    "print('Error Medio Cuadrado (RMSE):', RMSE_SLR)\n",
    "print('r2:', r2_SLR)"
   ]
  },
  {
   "cell_type": "code",
   "execution_count": 32,
   "metadata": {
    "id": "LWvfEDGKuoLJ"
   },
   "outputs": [
    {
     "name": "stdout",
     "output_type": "stream",
     "text": [
      "Input 1\n",
      "Ouput 2\n",
      "Powersn [[1]\n",
      " [2]]\n"
     ]
    },
    {
     "name": "stderr",
     "output_type": "stream",
     "text": [
      "C:\\Users\\josia\\anaconda3\\envs\\MNA\\lib\\site-packages\\sklearn\\utils\\deprecation.py:103: FutureWarning: The attribute `n_input_features_` was deprecated in version 1.0 and will be removed in 1.2.\n",
      "  warnings.warn(msg, category=FutureWarning)\n"
     ]
    },
    {
     "data": {
      "text/plain": [
       "(array([-16.40638102,   1.13136095]), 88.80179909112496)"
      ]
     },
     "execution_count": 32,
     "metadata": {},
     "output_type": "execute_result"
    }
   ],
   "source": [
    "#polinomial\n",
    "from sklearn.preprocessing import PolynomialFeatures\n",
    "\n",
    "poly_features = PolynomialFeatures(degree=2, include_bias=False)\n",
    "X_poly = poly_features.fit_transform(X_train)\n",
    "\n",
    "print(\"Input\",poly_features.n_input_features_)\n",
    "print(\"Ouput\",poly_features.n_output_features_)\n",
    "print(\"Powersn\",poly_features.powers_)\n",
    "\n",
    "PLR = LinearRegression(fit_intercept=True)\n",
    "PLR.fit(X_poly, y_train)\n",
    "PLR.coef_, PLR.intercept_\n"
   ]
  },
  {
   "cell_type": "code",
   "execution_count": 33,
   "metadata": {},
   "outputs": [],
   "source": [
    "X_Poly = poly_features.fit_transform(X_test)\n",
    "y_Poly = PLR.predict(X_Poly)"
   ]
  },
  {
   "cell_type": "code",
   "execution_count": 34,
   "metadata": {},
   "outputs": [
    {
     "data": {
      "image/png": "[encoded data removed]",
      "text/plain": [
       "<Figure size 640x480 with 1 Axes>"
      ]
     },
     "metadata": {},
     "output_type": "display_data"
    }
   ],
   "source": [
    "order = np.argsort(X_test.values.ravel())\n",
    "\n",
    "sortedXPoly = X_test.values.ravel()[order]\n",
    "sortedYPoly = y_test.values.ravel()[order]\n",
    "sorted_predict_poly = y_Poly[order]\n",
    "\n",
    "plt.plot(X, y, \"b.\")\n",
    "plt.plot(sortedXPoly, sorted_predict_poly, \"r-\", linewidth=2, label=\"Predictions\")\n",
    "plt.xlabel(\"$X_1$\", fontsize=10)\n",
    "plt.ylabel(\"$y$\", rotation=0, fontsize=12)\n",
    "plt.legend(loc=\"upper left\", fontsize=14);\n",
    "plt.axis([0, 10, 0, 90]);"
   ]
  },
  {
   "cell_type": "code",
   "execution_count": 35,
   "metadata": {},
   "outputs": [
    {
     "name": "stdout",
     "output_type": "stream",
     "text": [
      "PLR Eq: y = 1.1313609537119216 x2 + -16.406381017212386 x + 88.80179909112496\n"
     ]
    }
   ],
   "source": [
    "# Ecuación del modelo - Polinomial\n",
    "print('PLR Eq: y =', PLR.coef_[1],'x2 +', PLR.coef_[0],'x +', PLR.intercept_)"
   ]
  },
  {
   "cell_type": "code",
   "execution_count": 36,
   "metadata": {},
   "outputs": [
    {
     "name": "stdout",
     "output_type": "stream",
     "text": [
      "Error Medio Absoluto (MAE): 4.3833025759681075\n",
      "Error Medio Cuadrado (RMSE): 34.021221050567426\n",
      "r2: 0.7385501224942537\n"
     ]
    }
   ],
   "source": [
    "MAE_PLR = mean_absolute_error(y_test,y_Poly)\n",
    "Model_Indicators.append([\"PLR\",\"MAE\",MAE_PLR])\n",
    "\n",
    "RMSE_PLR = mean_squared_error(y_test,y_Poly)\n",
    "Model_Indicators.append([\"PLR\",\"RMSE\",RMSE_PLR])\n",
    "\n",
    "r2_PLR = r2_score(y_test,y_Poly)\n",
    "Model_Indicators.append([\"PLR\",\"r2\",r2_PLR])\n",
    "\n",
    "print('Error Medio Absoluto (MAE):', MAE_PLR)\n",
    "print('Error Medio Cuadrado (RMSE):', RMSE_PLR)\n",
    "print('r2:', r2_PLR)"
   ]
  },
  {
   "cell_type": "markdown",
   "metadata": {
    "id": "CfqcmLmxLoe9"
   },
   "source": [
    "**Ridge y Lasso**"
   ]
  },
  {
   "cell_type": "code",
   "execution_count": 37,
   "metadata": {},
   "outputs": [
    {
     "data": {
      "image/png": "[encoded data removed]",
      "text/plain": [
       "<Figure size 640x480 with 1 Axes>"
      ]
     },
     "metadata": {},
     "output_type": "display_data"
    }
   ],
   "source": [
    "MRidge = Ridge(alpha=1.0,fit_intercept=True)\n",
    "MRidge.fit(X_train, y_train)\n",
    "\n",
    "X_Ridge = X_test\n",
    "y_Ridge = MRidge.predict(X_Ridge)\n",
    "\n",
    "plt.scatter(X_train, y_train)\n",
    "plt.plot(X_Ridge, y_Ridge, \"r-\", linewidth=2, label=\"Ridge\")\n",
    "plt.xlabel(\"$X$\", fontsize=10)\n",
    "plt.ylabel(\"$y$\", rotation=0, fontsize=12)\n",
    "plt.legend(loc=\"upper left\", fontsize=14);"
   ]
  },
  {
   "cell_type": "code",
   "execution_count": 38,
   "metadata": {},
   "outputs": [
    {
     "name": "stdout",
     "output_type": "stream",
     "text": [
      "RIG Eq: y = [-5.98505893] x + 66.81965008652344\n"
     ]
    }
   ],
   "source": [
    "# Ecuación del modelo - RIDGE\n",
    "print('RIG Eq: y =', MRidge.coef_,'x +', MRidge.intercept_)"
   ]
  },
  {
   "cell_type": "code",
   "execution_count": 39,
   "metadata": {},
   "outputs": [
    {
     "name": "stdout",
     "output_type": "stream",
     "text": [
      "Error Medio Absoluto (MAE): 5.014112691100099\n",
      "Error Medio Cuadrado (RMSE): 50.54337500000185\n",
      "r2: 0.611578926493084\n"
     ]
    }
   ],
   "source": [
    "MAE_RIG = mean_absolute_error(y_test,y_Ridge)\n",
    "Model_Indicators.append([\"RIG\",\"MAE\",MAE_RIG])\n",
    "\n",
    "RMSE_RIG = mean_squared_error(y_test,y_Ridge)\n",
    "Model_Indicators.append([\"RIG\",\"RMSE\",RMSE_RIG])\n",
    "\n",
    "r2_RIG = r2_score(y_test,y_Ridge)\n",
    "Model_Indicators.append([\"RIG\",\"r2\",r2_RIG])\n",
    "\n",
    "print('Error Medio Absoluto (MAE):', MAE_RIG)\n",
    "print('Error Medio Cuadrado (RMSE):', RMSE_RIG)\n",
    "print('r2:', r2_RIG)"
   ]
  },
  {
   "cell_type": "code",
   "execution_count": 40,
   "metadata": {},
   "outputs": [
    {
     "data": {
      "image/png": "[encoded data removed]",
      "text/plain": [
       "<Figure size 640x480 with 1 Axes>"
      ]
     },
     "metadata": {},
     "output_type": "display_data"
    }
   ],
   "source": [
    "MLasso = Lasso(alpha=2.0,fit_intercept=True)\n",
    "MLasso.fit(X_train, y_train)\n",
    "\n",
    "X_Lasso = X_test\n",
    "y_Lasso = MLasso.predict(X_Lasso)\n",
    "\n",
    "plt.scatter(X_train, y_train)\n",
    "plt.plot(X_Lasso, y_Lasso, \"r-\", linewidth=2, label=\"LASSO\")\n",
    "plt.xlabel(\"$X$\", fontsize=10)\n",
    "plt.ylabel(\"$y$\", rotation=0, fontsize=12)\n",
    "plt.legend(loc=\"upper left\", fontsize=14);"
   ]
  },
  {
   "cell_type": "code",
   "execution_count": 41,
   "metadata": {},
   "outputs": [
    {
     "name": "stdout",
     "output_type": "stream",
     "text": [
      "LAS Eq: y = [-4.85558603] x + 61.76668492487158\n"
     ]
    }
   ],
   "source": [
    "# Ecuación del modelo - LASSO\n",
    "print('LAS Eq: y =', MLasso.coef_,'x +', MLasso.intercept_)"
   ]
  },
  {
   "cell_type": "code",
   "execution_count": 42,
   "metadata": {},
   "outputs": [
    {
     "name": "stdout",
     "output_type": "stream",
     "text": [
      "Error Medio Absoluto (MAE): 5.18124326706215\n",
      "Error Medio Cuadrado (RMSE): 54.84745061929168\n",
      "r2: 0.5785025109885904\n"
     ]
    }
   ],
   "source": [
    "MAE_LAS = mean_absolute_error(y_test,y_Lasso)\n",
    "Model_Indicators.append([\"LAS\",\"MAE\",MAE_LAS])\n",
    "\n",
    "RMSE_LAS = mean_squared_error(y_test,y_Lasso)\n",
    "Model_Indicators.append([\"LAS\",\"RMSE\",RMSE_LAS])\n",
    "\n",
    "r2_LAS = r2_score(y_test,y_Lasso)\n",
    "Model_Indicators.append([\"LAS\",\"r2\",r2_LAS])\n",
    "\n",
    "print('Error Medio Absoluto (MAE):', MAE_LAS)\n",
    "print('Error Medio Cuadrado (RMSE):', RMSE_LAS)\n",
    "print('r2:', r2_LAS)"
   ]
  },
  {
   "cell_type": "markdown",
   "metadata": {
    "id": "CfqcmLmxLoe9"
   },
   "source": [
    "# Comparación Modelos"
   ]
  },
  {
   "cell_type": "code",
   "execution_count": 43,
   "metadata": {},
   "outputs": [
    {
     "name": "stdout",
     "output_type": "stream",
     "text": [
      "[['SLR', 'MAE', 5.013587781954963], ['SLR', 'RMSE', 50.53735951137563], ['SLR', 'r2', 0.6116251549562579], ['PLR', 'MAE', 4.3833025759681075], ['PLR', 'RMSE', 34.021221050567426], ['PLR', 'r2', 0.7385501224942537], ['RIG', 'MAE', 5.014112691100099], ['RIG', 'RMSE', 50.54337500000185], ['RIG', 'r2', 0.611578926493084], ['LAS', 'MAE', 5.18124326706215], ['LAS', 'RMSE', 54.84745061929168], ['LAS', 'r2', 0.5785025109885904]]\n"
     ]
    }
   ],
   "source": [
    "print(Model_Indicators)"
   ]
  },
  {
   "cell_type": "code",
   "execution_count": 44,
   "metadata": {},
   "outputs": [],
   "source": [
    "ModelsName=[]\n",
    "ModelsName.append('SLR')\n",
    "ModelsName.append('PLR')\n",
    "ModelsName.append('RIG')\n",
    "ModelsName.append('LAS')\n",
    "\n",
    "IndicatorName=[]\n",
    "IndicatorName.append('MAE')\n",
    "IndicatorName.append('RMSE')\n",
    "IndicatorName.append('r2')"
   ]
  },
  {
   "cell_type": "code",
   "execution_count": 45,
   "metadata": {},
   "outputs": [
    {
     "name": "stdout",
     "output_type": "stream",
     "text": [
      "Gráfico: MAE\n"
     ]
    },
    {
     "data": {
      "image/png": "[encoded data removed]",
      "text/plain": [
       "<Figure size 640x480 with 1 Axes>"
      ]
     },
     "metadata": {},
     "output_type": "display_data"
    },
    {
     "name": "stdout",
     "output_type": "stream",
     "text": [
      "Gráfico: RMSE\n"
     ]
    },
    {
     "data": {
      "image/png": "[encoded data removed]",
      "text/plain": [
       "<Figure size 640x480 with 1 Axes>"
      ]
     },
     "metadata": {},
     "output_type": "display_data"
    },
    {
     "name": "stdout",
     "output_type": "stream",
     "text": [
      "Gráfico: r2\n"
     ]
    },
    {
     "data": {
      "image/png": "[encoded data removed]",
      "text/plain": [
       "<Figure size 640x480 with 1 Axes>"
      ]
     },
     "metadata": {},
     "output_type": "display_data"
    }
   ],
   "source": [
    "for Indicator in IndicatorName:\n",
    "    IndicatorVal=[]\n",
    "    print(\"Gráfico: \"+Indicator)\n",
    "    for line in Model_Indicators:\n",
    "        if line[1] == Indicator:\n",
    "            IndicatorVal.append(line[2])\n",
    "    plt.bar(ModelsName, IndicatorVal)\n",
    "    plt.show()\n",
    "        "
   ]
  },
  {
   "cell_type": "code",
   "execution_count": 46,
   "metadata": {},
   "outputs": [],
   "source": [
    "ResLineal=y_Lineal - y_test\n",
    "ResPoly= y_Poly - y_test\n",
    "ResRidge=y_Ridge - y_test\n",
    "ResLasso=y_Lasso - y_test\n",
    "Res= [ResLineal,ResPoly,ResRidge,ResLasso]"
   ]
  },
  {
   "cell_type": "code",
   "execution_count": 47,
   "metadata": {},
   "outputs": [
    {
     "data": {
      "image/png": "[encoded data removed]",
      "text/plain": [
       "<Figure size 1200x800 with 1 Axes>"
      ]
     },
     "metadata": {},
     "output_type": "display_data"
    }
   ],
   "source": [
    "sns.set(rc={'figure.figsize':(12,8)})\n",
    "\n",
    "plt.boxplot(Res, labels=ModelsName, showmeans=True)\n",
    "plt.show()"
   ]
  }
 ],
 "metadata": {
  "accelerator": "GPU",
  "colab": {
   "provenance": []
  },
  "kernelspec": {
   "display_name": "Python 3 (ipykernel)",
   "language": "python",
   "name": "python3"
  },
  "language_info": {
   "codemirror_mode": {
    "name": "ipython",
    "version": 3
   },
   "file_extension": ".py",
   "mimetype": "text/x-python",
   "name": "python",
   "nbconvert_exporter": "python",
   "pygments_lexer": "ipython3",
   "version": "3.9.13"
  }
 },
 "nbformat": 4,
 "nbformat_minor": 1
}
